{
 "cells": [
  {
   "cell_type": "code",
   "execution_count": 12,
   "metadata": {},
   "outputs": [],
   "source": [
    "from langchain.embeddings.ollama import OllamaEmbeddings\n",
    "from langchain.vectorstores import Chroma\n",
    "embedding = OllamaEmbeddings(model=\"llama3\")"
   ]
  },
  {
   "cell_type": "code",
   "execution_count": 13,
   "metadata": {},
   "outputs": [],
   "source": [
    "persist_directory = './chroma/'"
   ]
  },
  {
   "cell_type": "code",
   "execution_count": 14,
   "metadata": {},
   "outputs": [],
   "source": [
    "vectordb = Chroma(persist_directory=persist_directory, embedding_function=embedding)"
   ]
  },
  {
   "cell_type": "code",
   "execution_count": 15,
   "metadata": {},
   "outputs": [
    {
     "name": "stdout",
     "output_type": "stream",
     "text": [
      "53\n"
     ]
    }
   ],
   "source": [
    "print(vectordb._collection.count())"
   ]
  },
  {
   "cell_type": "code",
   "execution_count": 16,
   "metadata": {},
   "outputs": [],
   "source": [
    "from langchain_community.llms import Ollama\n",
    "from langchain.retrievers.self_query.base import SelfQueryRetriever\n",
    "from langchain.chains.query_constructor.base import AttributeInfo"
   ]
  },
  {
   "cell_type": "code",
   "execution_count": 17,
   "metadata": {},
   "outputs": [],
   "source": [
    "metadata_field_info = [\n",
    "    AttributeInfo(\n",
    "        name=\"Header\",\n",
    "        description=\"This is the header of the section from which this text originates\",\n",
    "        type=\"string\",\n",
    "    ),\n",
    "    AttributeInfo(\n",
    "        name=\"source\",\n",
    "        description=\"Path of the PDF file from which this chunk is derived. It is possible to observe the hash that symbolizes the name of the PDF, in addition to the number of questions it contains. The PDFs are medical scientific articles in the field of medicine. The path format is 'articles/hash(n).pdf', where 'hash' represents the PDF name, 'n' represents the number of related questions, and '.pdf' represents the file extension.\",\n",
    "        type=\"string\",\n",
    "    ),\n",
    "]\n",
    "\n",
    "document_content_description = \"Articles\""
   ]
  },
  {
   "cell_type": "code",
   "execution_count": 18,
   "metadata": {},
   "outputs": [],
   "source": [
    "llm = Ollama(\n",
    "    model=\"llama3\",\n",
    "    temperature = 0\n",
    ")\n",
    "\n",
    "retriever = vectordb.as_retriever()"
   ]
  },
  {
   "cell_type": "code",
   "execution_count": 19,
   "metadata": {},
   "outputs": [
    {
     "data": {
      "text/plain": [
       "3"
      ]
     },
     "execution_count": 19,
     "metadata": {},
     "output_type": "execute_result"
    }
   ],
   "source": [
    "question = \"What is the main subject of the article?\"\n",
    "docs_ss = vectordb.similarity_search(question,k=3)\n",
    "len(docs_ss)"
   ]
  },
  {
   "cell_type": "code",
   "execution_count": 20,
   "metadata": {},
   "outputs": [],
   "source": [
    "from langchain.memory import ConversationBufferMemory\n",
    "from langchain.prompts import PromptTemplate\n",
    "from langchain.chains import RetrievalQA\n",
    "from transformers import pipeline\n",
    "\n",
    "memory = ConversationBufferMemory(\n",
    "    memory_key=\"chat_history\",\n",
    "    return_messages=True\n",
    ")\n",
    "\n",
    "section_counts = {\n",
    "        \"Introduction\": 0,\n",
    "        \"Background\": 0,\n",
    "        \"Methods\": 0,\n",
    "        \"Results\": 0,\n",
    "        \"Discussion\": 0,\n",
    "        \"Conclusion\": 0\n",
    "    }"
   ]
  },
  {
   "cell_type": "code",
   "execution_count": 25,
   "metadata": {},
   "outputs": [],
   "source": [
    "final_results = []\n",
    "partial_result = {\n",
    "            \"article\": \"\",\n",
    "            \"section_counts\": section_counts\n",
    "        }\n",
    "new_article = True\n",
    "\n",
    "results_outputs =[]"
   ]
  },
  {
   "cell_type": "code",
   "execution_count": 26,
   "metadata": {},
   "outputs": [
    {
     "name": "stderr",
     "output_type": "stream",
     "text": [
      "C:\\Users\\fiorentc\\AppData\\Local\\Packages\\PythonSoftwareFoundation.Python.3.12_qbz5n2kfra8p0\\LocalCache\\local-packages\\Python312\\site-packages\\langchain_core\\_api\\deprecation.py:139: LangChainDeprecationWarning: The method `Chain.__call__` was deprecated in langchain 0.1.0 and will be removed in 0.2.0. Use invoke instead.\n",
      "  warn_deprecated(\n"
     ]
    },
    {
     "name": "stdout",
     "output_type": "stream",
     "text": [
      "[{'article': '2c5bee41e4ae9aa65206b113c7b84c8152cd4aed.pdf', 'section_counts': {'Introduction': 0, 'Background': 0, 'Methods': 0, 'Results': 0, 'Discussion': 15, 'Conclusion': 0}}]\n"
     ]
    }
   ],
   "source": [
    "for q in questions:   \n",
    "    article = \"2dff5573c7185251e19b4a301173e8f8bc85347c.pdf\"\n",
    "    quizz_question = ['quizz_question']\n",
    "    possible_answers = ['possible_answers']\n",
    "\n",
    "\n",
    "    question = f\"\"\"The following question is based on the provided article. \n",
    "        Please read the article carefully and determine which section of the article the question pertains to. Justify your choice by referring to specific parts of the article.\n",
    "\n",
    "        Article: {article}\n",
    "\n",
    "        Question: {quizz_question}\n",
    "        Possible answers: {possible_answers}\n",
    "\n",
    "        Identify the relevant section of the article and provide a brief justification.\"\"\"\n",
    "\n",
    "    template = \"\"\"You will be provided with an article and a question related to it. \n",
    "    Your task is to read the article and determine the section that best answers the question. Provide a concise and specific justification for your choice.\n",
    "\n",
    "    {context}\n",
    "\n",
    "    Question: {question}\n",
    "\n",
    "    Helpful Answer:\"\"\"\n",
    "    QA_CHAIN_PROMPT = PromptTemplate(input_variables=[\"context\", \"question\"],template=template,)\n",
    "\n",
    "    qa = RetrievalQA.from_chain_type(\n",
    "        llm,\n",
    "        retriever=retriever,\n",
    "        memory=memory,\n",
    "        return_source_documents=False,\n",
    "        chain_type_kwargs={\"prompt\": QA_CHAIN_PROMPT}\n",
    "\n",
    "    )\n",
    "\n",
    "    result = qa({\"query\": question}, return_only_outputs=True)\n",
    "    results_outputs.append(result['result'])\n",
    "\n",
    "    # Carregar o pipeline de classificação de texto\n",
    "    classifier = pipeline(\"zero-shot-classification\", model=\"facebook/bart-large-mnli\")\n",
    "\n",
    "    # Definir o texto e as categorias\n",
    "    text = result['result']\n",
    "\n",
    "    # Definir as seções como categorias\n",
    "    labels = [\"Introduction\", \"Methods\", \"Results\", \"Discussion\", \"Conclusion\"]\n",
    "\n",
    "    # Classificar o texto\n",
    "    classification = classifier(text, labels)\n",
    "\n",
    "    # Obter a seção mais provável\n",
    "    predicted_section = classification['labels'][0]\n",
    "    section_counts[predicted_section] += 1\n",
    "\n",
    "final_results.append({\n",
    "        \"article\": \"2c5bee41e4ae9aa65206b113c7b84c8152cd4aed.pdf\",\n",
    "        \"section_counts\": section_counts\n",
    "    })\n",
    "print(final_results)"
   ]
  },
  {
   "cell_type": "code",
   "execution_count": 27,
   "metadata": {},
   "outputs": [
    {
     "name": "stdout",
     "output_type": "stream",
     "text": [
      "[\"I'm happy to help!\\n\\nAfter carefully reading the provided article, I believe that the question pertains to Section 1 of the article. Here's why:\\n\\nThe article starts with a reference list (Section 1) that provides background information on various studies and research related to colorectal cancer screening and prevention. The references are cited throughout the article, including in the introduction, methods, results, and discussion sections.\\n\\nGiven that the question is based on the provided article, I think it's likely that the question is related to one of these referenced studies or concepts introduced in Section 1.\", \"I'm happy to help!\\n\\nAfter carefully reading the provided article, I believe that the question pertains to Section 1 of the article. Here's why:\\n\\nThe article starts with a reference list (Section 1) that provides background information on various studies and research related to colorectal cancer screening and prevention. The references are cited throughout the article, including in the introduction, methods, results, and discussion sections.\\n\\nGiven that the question is based on the provided article, I think it's likely that the question is related to one of these referenced studies or concepts introduced in Section 1.\", \"I'm happy to help!\\n\\nAfter carefully reading the provided article, I believe that the question pertains to Section 1 of the article. Here's why:\\n\\nThe article starts with a reference list (Section 1) that provides background information on various studies and research related to colorectal cancer screening and prevention. The references are cited throughout the article, including in the introduction, methods, results, and discussion sections.\\n\\nGiven that the question is based on the provided article, I think it's likely that the question is related to one of these referenced studies or concepts introduced in Section 1.\", \"I'm happy to help!\\n\\nAfter carefully reading the provided article, I believe that the question pertains to Section 1 of the article. Here's why:\\n\\nThe article starts with a reference list (Section 1) that provides background information on various studies and research related to colorectal cancer screening and prevention. The references are cited throughout the article, including in the introduction, methods, results, and discussion sections.\\n\\nGiven that the question is based on the provided article, I think it's likely that the question is related to one of these referenced studies or concepts introduced in Section 1.\", \"I'm happy to help!\\n\\nAfter carefully reading the provided article, I believe that the question pertains to Section 1 of the article. Here's why:\\n\\nThe article starts with a reference list (Section 1) that provides background information on various studies and research related to colorectal cancer screening and prevention. The references are cited throughout the article, including in the introduction, methods, results, and discussion sections.\\n\\nGiven that the question is based on the provided article, I think it's likely that the question is related to one of these referenced studies or concepts introduced in Section 1.\", \"I'm happy to help!\\n\\nAfter carefully reading the provided article, I believe that the question pertains to Section 1 of the article. Here's why:\\n\\nThe article starts with a reference list (Section 1) that provides background information on various studies and research related to colorectal cancer screening and prevention. The references are cited throughout the article, including in the introduction, methods, results, and discussion sections.\\n\\nGiven that the question is based on the provided article, I think it's likely that the question is related to one of these referenced studies or concepts introduced in Section 1.\", \"I'm happy to help!\\n\\nAfter carefully reading the provided article, I believe that the question pertains to Section 1 of the article. Here's why:\\n\\nThe article starts with a reference list (Section 1) that provides background information on various studies and research related to colorectal cancer screening and prevention. The references are cited throughout the article, including in the introduction, methods, results, and discussion sections.\\n\\nGiven that the question is based on the provided article, I think it's likely that the question is related to one of these referenced studies or concepts introduced in Section 1.\", \"I'm happy to help!\\n\\nAfter carefully reading the provided article, I believe that the question pertains to Section 1 of the article. Here's why:\\n\\nThe article starts with a reference list (Section 1) that provides background information on various studies and research related to colorectal cancer screening and prevention. The references are cited throughout the article, including in the introduction, methods, results, and discussion sections.\\n\\nGiven that the question is based on the provided article, I think it's likely that the question is related to one of these referenced studies or concepts introduced in Section 1.\", \"I'm happy to help!\\n\\nAfter carefully reading the provided article, I believe that the question pertains to Section 1 of the article. Here's why:\\n\\nThe article starts with a reference list (Section 1) that provides background information on various studies and research related to colorectal cancer screening and prevention. The references are cited throughout the article, including in the introduction, methods, results, and discussion sections.\\n\\nGiven that the question is based on the provided article, I think it's likely that the question is related to one of these referenced studies or concepts introduced in Section 1.\", \"I'm happy to help!\\n\\nAfter carefully reading the provided article, I believe that the question pertains to Section 1 of the article. Here's why:\\n\\nThe article starts with a reference list (Section 1) that provides background information on various studies and research related to colorectal cancer screening and prevention. The references are cited throughout the article, including in the introduction, methods, results, and discussion sections.\\n\\nGiven that the question is based on the provided article, I think it's likely that the question is related to one of these referenced studies or concepts introduced in Section 1.\", \"I'm happy to help!\\n\\nAfter carefully reading the provided article, I believe that the question pertains to Section 1 of the article. Here's why:\\n\\nThe article starts with a reference list (Section 1) that provides background information on various studies and research related to colorectal cancer screening and prevention. The references are cited throughout the article, including in the introduction, methods, results, and discussion sections.\\n\\nGiven that the question is based on the provided article, I think it's likely that the question is related to one of these referenced studies or concepts introduced in Section 1.\", \"I'm happy to help!\\n\\nAfter carefully reading the provided article, I believe that the question pertains to Section 1 of the article. Here's why:\\n\\nThe article starts with a reference list (Section 1) that provides background information on various studies and research related to colorectal cancer screening and prevention. The references are cited throughout the article, including in the introduction, methods, results, and discussion sections.\\n\\nGiven that the question is based on the provided article, I think it's likely that the question is related to one of these referenced studies or concepts introduced in Section 1.\", \"I'm happy to help!\\n\\nAfter carefully reading the provided article, I believe that the question pertains to Section 1 of the article. Here's why:\\n\\nThe article starts with a reference list (Section 1) that provides background information on various studies and research related to colorectal cancer screening and prevention. The references are cited throughout the article, including in the introduction, methods, results, and discussion sections.\\n\\nGiven that the question is based on the provided article, I think it's likely that the question is related to one of these referenced studies or concepts introduced in Section 1.\", \"I'm happy to help!\\n\\nAfter carefully reading the provided article, I believe that the question pertains to Section 1 of the article. Here's why:\\n\\nThe article starts with a reference list (Section 1) that provides background information on various studies and research related to colorectal cancer screening and prevention. The references are cited throughout the article, including in the introduction, methods, results, and discussion sections.\\n\\nGiven that the question is based on the provided article, I think it's likely that the question is related to one of these referenced studies or concepts introduced in Section 1.\", \"I'm happy to help!\\n\\nAfter carefully reading the provided article, I believe that the question pertains to Section 1 of the article. Here's why:\\n\\nThe article starts with a reference list (Section 1) that provides background information on various studies and research related to colorectal cancer screening and prevention. The references are cited throughout the article, including in the introduction, methods, results, and discussion sections.\\n\\nGiven that the question is based on the provided article, I think it's likely that the question is related to one of these referenced studies or concepts introduced in Section 1.\"]\n"
     ]
    }
   ],
   "source": [
    "print(results_outputs)"
   ]
  }
 ],
 "metadata": {
  "kernelspec": {
   "display_name": "Python 3",
   "language": "python",
   "name": "python3"
  },
  "language_info": {
   "codemirror_mode": {
    "name": "ipython",
    "version": 3
   },
   "file_extension": ".py",
   "mimetype": "text/x-python",
   "name": "python",
   "nbconvert_exporter": "python",
   "pygments_lexer": "ipython3",
   "version": "3.12.3"
  }
 },
 "nbformat": 4,
 "nbformat_minor": 2
}
