{
 "cells": [
  {
   "cell_type": "markdown",
   "metadata": {},
   "source": [
    "## Initialization"
   ]
  },
  {
   "cell_type": "code",
   "execution_count": 40,
   "metadata": {},
   "outputs": [],
   "source": [
    "import os\n",
    "import openai\n",
    "import sys\n",
    "import re\n",
    "sys.path.append('../..')\n",
    "\n",
    "from dotenv import load_dotenv, find_dotenv\n",
    "_ = load_dotenv(find_dotenv()) # read local .env file\n",
    "\n",
    "openai.api_key  = os.environ['OPENAI_API_KEY']"
   ]
  },
  {
   "cell_type": "markdown",
   "metadata": {},
   "source": [
    "## Articles loader"
   ]
  },
  {
   "cell_type": "code",
   "execution_count": 78,
   "metadata": {},
   "outputs": [],
   "source": [
    "from langchain.document_loaders import PyPDFLoader\n",
    "loaders = [\n",
    "    PyPDFLoader(\"./articles/0dacb0b566cb38438b84aa092176c6d42bf4402d(16).pdf\")\n",
    "]\n",
    "\n",
    "articles = []\n",
    "for loader in loaders:\n",
    "    article = loader.load()\n",
    "    articles.append(article)"
   ]
  },
  {
   "cell_type": "code",
   "execution_count": 79,
   "metadata": {},
   "outputs": [
    {
     "data": {
      "text/plain": [
       "7"
      ]
     },
     "execution_count": 79,
     "metadata": {},
     "output_type": "execute_result"
    }
   ],
   "source": [
    "len(articles[0])"
   ]
  },
  {
   "cell_type": "markdown",
   "metadata": {},
   "source": [
    "## Articles Splitting"
   ]
  },
  {
   "cell_type": "code",
   "execution_count": 80,
   "metadata": {},
   "outputs": [],
   "source": [
    "text = \"\\n\".join([page.page_content for page in articles[0]])"
   ]
  },
  {
   "cell_type": "code",
   "execution_count": 81,
   "metadata": {},
   "outputs": [],
   "source": [
    "headers = [\n",
    "    r\"^\\s*Abstract\\s*$\",\n",
    "    r\"^\\s*Introduction\\s*$\",\n",
    "    r\"^\\s*Methods\\s*$\",\n",
    "    r\"^\\s*Methodology\\s*$\",\n",
    "    r\"^\\s*Results\\s*$\",\n",
    "    r\"^\\s*Discussion\\s*$\",\n",
    "    r\"^\\s*Conclusion\\s*$\",\n",
    "    r\"^\\s*References\\s*$\"\n",
    "]\n",
    "\n",
    "headers_to_split_on = [\n",
    "    (\"#\", \"Abstract\"),\n",
    "    (\"#\", \"Introduction\"),\n",
    "    (\"#\", \"Methods\"),\n",
    "    (\"#\", \"Methodology\"),\n",
    "    (\"#\", \"Results\"),\n",
    "    (\"#\", \"Discussion\"),\n",
    "    (\"#\", \"Conclusion\"),\n",
    "    (\"#\", \"References\"),\n",
    "]"
   ]
  },
  {
   "cell_type": "code",
   "execution_count": 82,
   "metadata": {},
   "outputs": [],
   "source": [
    "def convert_to_markdown(text, headers):\n",
    "    lines = text.split(\"\\n\")\n",
    "    markdown_text = []\n",
    "    \n",
    "    for line in lines:\n",
    "        header_found = False\n",
    "        for header in headers:\n",
    "            if re.match(header, line.strip(), re.IGNORECASE):\n",
    "                markdown_text.append(f\"# {line.strip()}\")\n",
    "                header_found = True\n",
    "                break\n",
    "        if not header_found:\n",
    "            markdown_text.append(line)\n",
    "    \n",
    "    return \"\\n\".join(markdown_text)\n",
    "\n",
    "# Convertendo o texto para formato Markdown\n",
    "markdown_text = convert_to_markdown(text, headers)"
   ]
  },
  {
   "cell_type": "code",
   "execution_count": 83,
   "metadata": {},
   "outputs": [],
   "source": [
    "# Dividindo o texto Markdown usando MarkdownHeaderTextSplitter\n",
    "from langchain.text_splitter import MarkdownHeaderTextSplitter\n",
    "markdown_splitter = MarkdownHeaderTextSplitter(headers_to_split_on=headers_to_split_on)\n",
    "md_header_splits = markdown_splitter.split_text(markdown_text)"
   ]
  },
  {
   "cell_type": "code",
   "execution_count": 85,
   "metadata": {},
   "outputs": [
    {
     "name": "stdout",
     "output_type": "stream",
     "text": [
      "5\n"
     ]
    }
   ],
   "source": [
    "size = len(md_header_splits)\n",
    "md_header_splits[1]\n",
    "\n",
    "print(size)"
   ]
  },
  {
   "cell_type": "code",
   "execution_count": 38,
   "metadata": {},
   "outputs": [],
   "source": [
    "# TODO: implement small sections"
   ]
  },
  {
   "cell_type": "markdown",
   "metadata": {},
   "source": [
    "## Vectorstores and Embedding"
   ]
  },
  {
   "cell_type": "code",
   "execution_count": null,
   "metadata": {},
   "outputs": [],
   "source": []
  }
 ],
 "metadata": {
  "kernelspec": {
   "display_name": "Python 3",
   "language": "python",
   "name": "python3"
  },
  "language_info": {
   "codemirror_mode": {
    "name": "ipython",
    "version": 3
   },
   "file_extension": ".py",
   "mimetype": "text/x-python",
   "name": "python",
   "nbconvert_exporter": "python",
   "pygments_lexer": "ipython3",
   "version": "3.12.3"
  }
 },
 "nbformat": 4,
 "nbformat_minor": 2
}
